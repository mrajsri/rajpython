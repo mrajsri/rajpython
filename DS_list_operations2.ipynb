{
 "cells": [
  {
   "cell_type": "code",
   "execution_count": 9,
   "metadata": {},
   "outputs": [
    {
     "name": "stdout",
     "output_type": "stream",
     "text": [
      "['hyderabad', 'banglore', 'chennai', 'delhi']\n",
      "['hyderabad', 'banglore', 'chennai', 'delhi', 'mumbai']\n",
      "hyderabad,Hyderabad\n",
      "Hyderabad, capital city\n",
      "banglore,Banglore\n",
      "Banglore, capital city\n",
      "chennai,Chennai\n",
      "Chennai, capital city\n",
      "delhi,Delhi\n",
      "Delhi, capital city\n",
      "mumbai,Mumbai\n",
      "Mumbai, capital city\n",
      "1\n",
      "2\n",
      "3\n",
      "4\n",
      "[1, 2, 3, 4, 5]\n",
      "[2, 4, 6, 8, 10, 12, 14, 16, 18]\n",
      "['banglore', 'chennai']\n"
     ]
    }
   ],
   "source": [
    "cities = ['hyderabad','banglore','chennai','delhi']  \n",
    "print(cities)\n",
    "\n",
    "cities.append('mumbai')\n",
    "print(cities)\n",
    "\n",
    "for city in cities:                   #for loop \n",
    "    print(f\"{city},{city.title()}\")  # f is concatenation function\n",
    "    print(f\"{city.title()}, capital city\")\n",
    "    \n",
    "for rank in range(1,5):\n",
    "    print(rank)\n",
    "    \n",
    "numbers = list(range(1,6)) #creating list of numbers\n",
    "print(numbers)\n",
    "\n",
    "even_numbers = list(range(2,20,2)) # creating list of even numbers in the range\n",
    "print(even_numbers)\n",
    "\n",
    "min(even_numbers)  #min of numbers in the list \n",
    "\n",
    "sum(even_numbers)  #sum of numbers in the list\n",
    "\n",
    "\n",
    "#slicing the cities list with index\n",
    "print(cities[1:3])"
   ]
  },
  {
   "cell_type": "code",
   "execution_count": null,
   "metadata": {},
   "outputs": [],
   "source": []
  }
 ],
 "metadata": {
  "kernelspec": {
   "display_name": "Python 3",
   "language": "python",
   "name": "python3"
  },
  "language_info": {
   "codemirror_mode": {
    "name": "ipython",
    "version": 3
   },
   "file_extension": ".py",
   "mimetype": "text/x-python",
   "name": "python",
   "nbconvert_exporter": "python",
   "pygments_lexer": "ipython3",
   "version": "3.6.7"
  }
 },
 "nbformat": 4,
 "nbformat_minor": 2
}
