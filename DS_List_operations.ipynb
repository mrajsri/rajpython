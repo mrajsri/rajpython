{
 "cells": [
  {
   "cell_type": "code",
   "execution_count": 26,
   "metadata": {},
   "outputs": [
    {
     "name": "stdout",
     "output_type": "stream",
     "text": [
      "['delhi', 'mumbai', 'hyderabad', 'banglore']\n",
      "['banglore', 'hyderabad', 'mumbai', 'delhi']\n",
      "['banglore', 'delhi', 'hyderabad', 'mumbai']\n",
      "['banglore', 'delhi', 'hyderabad', 'mumbai', 'chennai']\n",
      "['pune', 'banglore', 'delhi', 'hyderabad', 'mumbai', 'chennai']\n",
      "['pune', 'banglore', 'delhi', 'hyderabad', 'mumbai']\n",
      "['banglore', 'delhi', 'hyderabad', 'mumbai']\n",
      "['delhi', 'hyderabad', 'mumbai']\n"
     ]
    }
   ],
   "source": [
    "cities = ['delhi','mumbai','hyderabad','banglore']\n",
    "print(cities)\n",
    "\n",
    "cities.reverse()\n",
    "print(cities)\n",
    "\n",
    "cities.sort()\n",
    "print(cities)\n",
    "\n",
    "cities.append('chennai')\n",
    "print(cities)\n",
    "\n",
    "cities.insert(0,'pune')\n",
    "print(cities)\n",
    "\n",
    "len(cities) -- 6\n",
    "\n",
    "cities.pop()\n",
    "print(cities)\n",
    "\n",
    "cities.remove('pune')\n",
    "print(cities)\n",
    "\n",
    "del cities[0]\n",
    "print(cities)"
   ]
  },
  {
   "cell_type": "code",
   "execution_count": 2,
   "metadata": {},
   "outputs": [],
   "source": []
  },
  {
   "cell_type": "code",
   "execution_count": null,
   "metadata": {},
   "outputs": [],
   "source": []
  }
 ],
 "metadata": {
  "kernelspec": {
   "display_name": "Python 3",
   "language": "python",
   "name": "python3"
  },
  "language_info": {
   "codemirror_mode": {
    "name": "ipython",
    "version": 3
   },
   "file_extension": ".py",
   "mimetype": "text/x-python",
   "name": "python",
   "nbconvert_exporter": "python",
   "pygments_lexer": "ipython3",
   "version": "3.6.7"
  }
 },
 "nbformat": 4,
 "nbformat_minor": 2
}
